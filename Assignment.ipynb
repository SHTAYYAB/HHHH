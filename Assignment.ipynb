{
 "cells": [
  {
   "cell_type": "code",
   "execution_count": 1,
   "metadata": {},
   "outputs": [
    {
     "name": "stdout",
     "output_type": "stream",
     "text": [
      "\t\t\tSAYLANI ONLINE ACADEMY BADGE-C\n",
      "Saylani Mass IT Training\n",
      "\tsaylani mass it training\n",
      "saylani mass it training\n",
      "\tsaylani mass it training\n",
      "saylani mass it training\n",
      "\tsaylani mass it training\n",
      "saylani mass it training\n",
      "\tsaylani mass it training\n",
      "\tsaylani mass it training\n",
      "saylani mass it training\n",
      "\tsaylani mass it training\n"
     ]
    }
   ],
   "source": [
    "#Out Put Function\n",
    "\n",
    "print (\"\\t\\t\\tSAYLANI ONLINE ACADEMY BADGE-C\" \"\\n\"\n",
    "       \n",
    "\"Saylani Mass IT Training\" \"\\n\"\n",
    "       \n",
    "\"\\tsaylani mass it training\" \"\\n\"\n",
    "       \n",
    "\"saylani mass it training\" \"\\n\"\n",
    "       \n",
    "\"\\tsaylani mass it training\" \"\\n\"\n",
    "       \n",
    "\"saylani mass it training\" \"\\n\"\n",
    "       \n",
    "\"\\tsaylani mass it training\" \"\\n\"\n",
    "       \n",
    "\"saylani mass it training\" \"\\n\"\n",
    "       \n",
    "\"\\tsaylani mass it training\" \"\\n\"\n",
    "       \n",
    "\"\\tsaylani mass it training\" \"\\n\"\n",
    "       \n",
    "\"saylani mass it training\" \"\\n\"\n",
    "       \n",
    "\"\\tsaylani mass it training\")"
   ]
  },
  {
   "cell_type": "code",
   "execution_count": 2,
   "metadata": {},
   "outputs": [
    {
     "name": "stdout",
     "output_type": "stream",
     "text": [
      "Saylani Mass IT Training \tSaylani Mass IT Training\n",
      "Saylani Mass IT Training \tSaylani Mass IT Training\n",
      "Saylani Mass IT Training \tSaylani Mass IT Training\n",
      "Saylani Mass IT Training \tSaylani Mass IT Training\n"
     ]
    }
   ],
   "source": [
    "print(\"Saylani Mass IT Training \\tSaylani Mass IT Training\" \"\\n\"\n",
    "      \n",
    "\"Saylani Mass IT Training \\tSaylani Mass IT Training\" \"\\n\"\n",
    "      \n",
    "\"Saylani Mass IT Training \\tSaylani Mass IT Training\" \"\\n\"\n",
    "      \n",
    "\"Saylani Mass IT Training \\tSaylani Mass IT Training\")"
   ]
  },
  {
   "cell_type": "code",
   "execution_count": 3,
   "metadata": {},
   "outputs": [
    {
     "name": "stdout",
     "output_type": "stream",
     "text": [
      "\tSaylani Mass IT Training \n",
      "Saylani Mass IT Training \tSaylani Mass IT Training\n",
      "\tSaylani Mass IT Training \n",
      "Saylani Mass IT Training \tSaylani Mass IT Training\n",
      "\tSaylani Mass IT Training \n",
      "Saylani Mass IT Training \tSaylani Mass IT Training\n",
      "\tSaylani Mass IT Training \n",
      "Saylani Mass IT Training \tSaylani Mass IT Training\n",
      "\tSaylani Mass IT Training \n",
      "Saylani Mass IT Training \tSaylani Mass IT Training\n"
     ]
    }
   ],
   "source": [
    "print(\"\\tSaylani Mass IT Training \\nSaylani Mass IT Training \\tSaylani Mass IT Training\" \"\\n\" \n",
    "\"\\tSaylani Mass IT Training \\nSaylani Mass IT Training \\tSaylani Mass IT Training\" \"\\n\"\n",
    "\"\\tSaylani Mass IT Training \\nSaylani Mass IT Training \\tSaylani Mass IT Training\" \"\\n\"\n",
    "\"\\tSaylani Mass IT Training \\nSaylani Mass IT Training \\tSaylani Mass IT Training\" \"\\n\"\n",
    "\"\\tSaylani Mass IT Training \\nSaylani Mass IT Training \\tSaylani Mass IT Training\")"
   ]
  },
  {
   "cell_type": "code",
   "execution_count": 4,
   "metadata": {},
   "outputs": [
    {
     "name": "stdout",
     "output_type": "stream",
     "text": [
      "saylani Mass IT Training\n",
      "\tsaylani Mass IT Training\n",
      "\t\tsaylani Mass IT Training\n",
      "\t\t\tsaylani Mass IT Training\n",
      "\t\tsaylani Mass IT Training\n",
      "\tsaylani Mass IT Training\n",
      "saylani Mass IT Training\n"
     ]
    }
   ],
   "source": [
    "print(\"saylani Mass IT Training\" \"\\n\"\n",
    "\"\\tsaylani Mass IT Training\" \"\\n\"\n",
    "\"\\t\\tsaylani Mass IT Training\" \"\\n\"\n",
    "\"\\t\\t\\tsaylani Mass IT Training\" \"\\n\"\n",
    "\"\\t\\tsaylani Mass IT Training\" \"\\n\"\n",
    "\"\\tsaylani Mass IT Training\" \"\\n\"\n",
    "\"saylani Mass IT Training\")"
   ]
  },
  {
   "cell_type": "code",
   "execution_count": 5,
   "metadata": {},
   "outputs": [
    {
     "name": "stdout",
     "output_type": "stream",
     "text": [
      "Show the multiplication table of? 20\n",
      "20 x 1 = 20\n",
      "20 x 2 = 40\n",
      "20 x 3 = 60\n",
      "20 x 4 = 80\n",
      "20 x 5 = 100\n",
      "20 x 6 = 120\n",
      "20 x 7 = 140\n",
      "20 x 8 = 160\n",
      "20 x 9 = 180\n",
      "20 x 10 = 200\n"
     ]
    }
   ],
   "source": [
    "# Multiplication table\n",
    "\n",
    "num = int(input(\"Show the multiplication table of? \"))\n",
    "\n",
    "# To take input from the user\n",
    "# num = int(input(\"Display multiplication table of? \"))\n",
    "\n",
    "# Iterate 10 times from i = 1 to 10\n",
    "for i in range(1, 11):\n",
    "   print(num, 'x', i, '=', num*i)"
   ]
  },
  {
   "cell_type": "code",
   "execution_count": 7,
   "metadata": {},
   "outputs": [
    {
     "name": "stdout",
     "output_type": "stream",
     "text": [
      "Enter 'x' for exit.\n",
      "Enter marks obtained in 5 subjects: \n",
      "50\n",
      "50\n",
      "50\n",
      "50\n",
      "50\n",
      "Your Grade is C\n"
     ]
    }
   ],
   "source": [
    "# Python Program - Calculate Grade of Student\n",
    "\n",
    "print(\"Enter 'x' for exit.\");\n",
    "print(\"Enter marks obtained in 5 subjects: \");\n",
    "mark1 = input();\n",
    "if mark1 == 'x':\n",
    "    exit();\n",
    "else:\n",
    "    mark1 = int(mark1);\n",
    "    mark2 = int(input());\n",
    "    mark3 = int(input());\n",
    "    mark4 = int(input());\n",
    "    mark5 = int(input());\n",
    "    sum = mark1 + mark2 + mark3 + mark4 + mark5;\n",
    "    average = sum/5;\n",
    "    if(average>=91 and average<=100):\n",
    "    \tprint(\"Your Grade is A+\");\n",
    "    elif(average>=81 and average<=90):\n",
    "    \tprint(\"Your Grade is A\");\n",
    "    elif(average>=71 and average<=80):\n",
    "    \tprint(\"Your Grade is B+\");\n",
    "    elif(average>=61 and average<=70):\n",
    "    \tprint(\"Your Grade is B\");\n",
    "    elif(average>=51 and average<=60):\n",
    "    \tprint(\"Your Grade is C+\");\n",
    "    elif(average>=41 and average<=50):\n",
    "    \tprint(\"Your Grade is C\");\n",
    "    elif(average>=0 and average<=40):\n",
    "    \tprint(\"Your Grade is F\");\n",
    "    else:\n",
    "    \tprint(\"Strange Grade..!!\");"
   ]
  },
  {
   "cell_type": "code",
   "execution_count": null,
   "metadata": {},
   "outputs": [],
   "source": []
  },
  {
   "cell_type": "code",
   "execution_count": null,
   "metadata": {},
   "outputs": [],
   "source": []
  },
  {
   "cell_type": "code",
   "execution_count": null,
   "metadata": {},
   "outputs": [],
   "source": []
  }
 ],
 "metadata": {
  "kernelspec": {
   "display_name": "Python 3",
   "language": "python",
   "name": "python3"
  },
  "language_info": {
   "codemirror_mode": {
    "name": "ipython",
    "version": 3
   },
   "file_extension": ".py",
   "mimetype": "text/x-python",
   "name": "python",
   "nbconvert_exporter": "python",
   "pygments_lexer": "ipython3",
   "version": "3.7.6"
  }
 },
 "nbformat": 4,
 "nbformat_minor": 4
}
